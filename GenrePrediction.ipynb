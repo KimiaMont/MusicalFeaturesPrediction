{
 "cells": [
  {
   "cell_type": "markdown",
   "metadata": {},
   "source": [
    "<img src=\"./pics/c9e59b2f85ae246ccdca754c1e71ce69.jpg\"  width=\"100\" height= \"100\" align = \"right\"/>\n",
    "# <font color=darkblue>DSCI 521 Project</font>\n",
    "## <font color=darkred>*Musical Features Prediction Using Machine Learning Algorithms* </font>\n",
    "#### <font color= darkgreen>*Using Audio Data Extracted From Free Music Archive Website* <br /> </font>\n",
    "[Kiana Montazeri](https://github.com/kianamon)<sup>1</sup>, [Farnaz Ghashami](https://github.com/FarnazGhashami)<sup>1</sup>,\n",
    "[Shideh Shams Amiri](https://github.com/shidehsh)<sup>1</sup>.<br>\n",
    "<sup>1</sup>[Drexel University, Philadelphia, PA](https://drexel.edu/cci/academics/information-science-department/)\n"
   ]
  },
  {
   "cell_type": "markdown",
   "metadata": {},
   "source": [
    "<img src=\"./pics/2.jpg\"  width=\"900\" height= \"300\" align = \"center\"/>"
   ]
  },
  {
   "cell_type": "markdown",
   "metadata": {},
   "source": [
    "## Genre Prediction"
   ]
  },
  {
   "cell_type": "code",
   "execution_count": 1,
   "metadata": {},
   "outputs": [],
   "source": [
    "#Libraries in Use\n",
    "from pprint import pprint\n",
    "from collections import defaultdict\n",
    "import re\n",
    "import csv\n",
    "import pandas as pd\n",
    "import IPython.display as ipd\n",
    "import numpy as np\n",
    "%matplotlib inline\n",
    "from matplotlib import pyplot as plt\n",
    "import warnings\n",
    "warnings.simplefilter(action='ignore', category=FutureWarning)\n",
    "from sklearn.model_selection import train_test_split\n",
    "from sklearn.preprocessing import MultiLabelBinarizer, LabelEncoder, StandardScaler\n",
    "from functools import reduce\n",
    "import seaborn as sns"
   ]
  },
  {
   "cell_type": "markdown",
   "metadata": {},
   "source": [
    "#### Load the data:"
   ]
  },
  {
   "cell_type": "code",
   "execution_count": 2,
   "metadata": {},
   "outputs": [],
   "source": [
    "df_features = pd.read_csv(\"./Data/prepdata/Stat_Features.csv\", low_memory=False)"
   ]
  },
  {
   "cell_type": "code",
   "execution_count": 3,
   "metadata": {},
   "outputs": [],
   "source": [
    "parse_dates = ['date_created_x', 'date_released']\n",
    "df_info = pd.read_csv(\"./Data/prepdata/info.csv\", parse_dates = parse_dates)"
   ]
  },
  {
   "cell_type": "code",
   "execution_count": 4,
   "metadata": {},
   "outputs": [],
   "source": [
    "# create the Labelencoder object\n",
    "le = LabelEncoder()\n",
    "\n",
    "#convert the categorical columns into numeric\n",
    "df_info['genre_top'] = le.fit_transform(df_info['genre_top'])\n",
    "df_info['tags_x'] = le.fit_transform(df_info['tags_x'])\n",
    "df_info['members'] = le.fit_transform(df_info['members'])\n",
    "df_info['name'] = le.fit_transform(df_info['name'])\n",
    "df_info['tags'] = le.fit_transform(df_info['tags'])\n",
    "df_info['tags_y'] = le.fit_transform(df_info['tags_y'])\n",
    "df_info['license'] = le.fit_transform(df_info['license'])\n",
    "df_info['information'] = le.fit_transform(df_info['information'])\n",
    "df_info['date_created_x'] = le.fit_transform(df_info['date_created_x'])\n",
    "df_info['date_released'] = le.fit_transform(df_info['date_released'])"
   ]
  },
  {
   "cell_type": "code",
   "execution_count": 5,
   "metadata": {},
   "outputs": [
    {
     "data": {
      "text/plain": [
       "Unnamed: 0        int64\n",
       "trackID           int64\n",
       "bit_rate          int64\n",
       "comments_x        int64\n",
       "date_created_x    int64\n",
       "duration          int64\n",
       "favorites_x       int64\n",
       "genre_top         int64\n",
       "interest          int64\n",
       "license           int64\n",
       "listens_x         int64\n",
       "number            int64\n",
       "tags_x            int64\n",
       "comments_y        int64\n",
       "date_released     int64\n",
       "favorites_y       int64\n",
       "id_x              int64\n",
       "information       int64\n",
       "listens_y         int64\n",
       "tags_y            int64\n",
       "tracks            int64\n",
       "favorites         int64\n",
       "id_y              int64\n",
       "members           int64\n",
       "name              int64\n",
       "tags              int64\n",
       "dtype: object"
      ]
     },
     "execution_count": 5,
     "metadata": {},
     "output_type": "execute_result"
    }
   ],
   "source": [
    "df_info.dtypes"
   ]
  },
  {
   "cell_type": "code",
   "execution_count": 6,
   "metadata": {},
   "outputs": [
    {
     "data": {
      "text/html": [
       "<div>\n",
       "<style scoped>\n",
       "    .dataframe tbody tr th:only-of-type {\n",
       "        vertical-align: middle;\n",
       "    }\n",
       "\n",
       "    .dataframe tbody tr th {\n",
       "        vertical-align: top;\n",
       "    }\n",
       "\n",
       "    .dataframe thead th {\n",
       "        text-align: right;\n",
       "    }\n",
       "</style>\n",
       "<table border=\"1\" class=\"dataframe\">\n",
       "  <thead>\n",
       "    <tr style=\"text-align: right;\">\n",
       "      <th></th>\n",
       "      <th>Unnamed: 0</th>\n",
       "      <th>trackID</th>\n",
       "      <th>bit_rate</th>\n",
       "      <th>comments_x</th>\n",
       "      <th>date_created_x</th>\n",
       "      <th>duration</th>\n",
       "      <th>favorites_x</th>\n",
       "      <th>genre_top</th>\n",
       "      <th>interest</th>\n",
       "      <th>license</th>\n",
       "      <th>...</th>\n",
       "      <th>id_x</th>\n",
       "      <th>information</th>\n",
       "      <th>listens_y</th>\n",
       "      <th>tags_y</th>\n",
       "      <th>tracks</th>\n",
       "      <th>favorites</th>\n",
       "      <th>id_y</th>\n",
       "      <th>members</th>\n",
       "      <th>name</th>\n",
       "      <th>tags</th>\n",
       "    </tr>\n",
       "  </thead>\n",
       "  <tbody>\n",
       "    <tr>\n",
       "      <th>0</th>\n",
       "      <td>0</td>\n",
       "      <td>2</td>\n",
       "      <td>256000</td>\n",
       "      <td>0</td>\n",
       "      <td>82</td>\n",
       "      <td>168</td>\n",
       "      <td>2</td>\n",
       "      <td>7</td>\n",
       "      <td>4656</td>\n",
       "      <td>36</td>\n",
       "      <td>...</td>\n",
       "      <td>1</td>\n",
       "      <td>1644</td>\n",
       "      <td>6073</td>\n",
       "      <td>2387</td>\n",
       "      <td>7</td>\n",
       "      <td>9</td>\n",
       "      <td>1</td>\n",
       "      <td>11914</td>\n",
       "      <td>299</td>\n",
       "      <td>1236</td>\n",
       "    </tr>\n",
       "    <tr>\n",
       "      <th>1</th>\n",
       "      <td>1</td>\n",
       "      <td>3</td>\n",
       "      <td>256000</td>\n",
       "      <td>0</td>\n",
       "      <td>83</td>\n",
       "      <td>237</td>\n",
       "      <td>1</td>\n",
       "      <td>7</td>\n",
       "      <td>1470</td>\n",
       "      <td>36</td>\n",
       "      <td>...</td>\n",
       "      <td>1</td>\n",
       "      <td>1644</td>\n",
       "      <td>6073</td>\n",
       "      <td>2387</td>\n",
       "      <td>7</td>\n",
       "      <td>9</td>\n",
       "      <td>1</td>\n",
       "      <td>11914</td>\n",
       "      <td>299</td>\n",
       "      <td>1236</td>\n",
       "    </tr>\n",
       "    <tr>\n",
       "      <th>2</th>\n",
       "      <td>2</td>\n",
       "      <td>5</td>\n",
       "      <td>256000</td>\n",
       "      <td>0</td>\n",
       "      <td>84</td>\n",
       "      <td>206</td>\n",
       "      <td>6</td>\n",
       "      <td>7</td>\n",
       "      <td>1933</td>\n",
       "      <td>36</td>\n",
       "      <td>...</td>\n",
       "      <td>1</td>\n",
       "      <td>1644</td>\n",
       "      <td>6073</td>\n",
       "      <td>2387</td>\n",
       "      <td>7</td>\n",
       "      <td>9</td>\n",
       "      <td>1</td>\n",
       "      <td>11914</td>\n",
       "      <td>299</td>\n",
       "      <td>1236</td>\n",
       "    </tr>\n",
       "    <tr>\n",
       "      <th>3</th>\n",
       "      <td>3</td>\n",
       "      <td>10</td>\n",
       "      <td>192000</td>\n",
       "      <td>0</td>\n",
       "      <td>0</td>\n",
       "      <td>161</td>\n",
       "      <td>178</td>\n",
       "      <td>12</td>\n",
       "      <td>54881</td>\n",
       "      <td>24</td>\n",
       "      <td>...</td>\n",
       "      <td>6</td>\n",
       "      <td>11053</td>\n",
       "      <td>47632</td>\n",
       "      <td>2387</td>\n",
       "      <td>2</td>\n",
       "      <td>74</td>\n",
       "      <td>6</td>\n",
       "      <td>7780</td>\n",
       "      <td>7425</td>\n",
       "      <td>10645</td>\n",
       "    </tr>\n",
       "    <tr>\n",
       "      <th>4</th>\n",
       "      <td>4</td>\n",
       "      <td>20</td>\n",
       "      <td>256000</td>\n",
       "      <td>0</td>\n",
       "      <td>86</td>\n",
       "      <td>311</td>\n",
       "      <td>0</td>\n",
       "      <td>7</td>\n",
       "      <td>978</td>\n",
       "      <td>24</td>\n",
       "      <td>...</td>\n",
       "      <td>4</td>\n",
       "      <td>10724</td>\n",
       "      <td>2710</td>\n",
       "      <td>2387</td>\n",
       "      <td>13</td>\n",
       "      <td>10</td>\n",
       "      <td>4</td>\n",
       "      <td>9984</td>\n",
       "      <td>9558</td>\n",
       "      <td>6377</td>\n",
       "    </tr>\n",
       "  </tbody>\n",
       "</table>\n",
       "<p>5 rows × 26 columns</p>\n",
       "</div>"
      ],
      "text/plain": [
       "   Unnamed: 0  trackID  bit_rate  comments_x  date_created_x  duration  \\\n",
       "0           0        2    256000           0              82       168   \n",
       "1           1        3    256000           0              83       237   \n",
       "2           2        5    256000           0              84       206   \n",
       "3           3       10    192000           0               0       161   \n",
       "4           4       20    256000           0              86       311   \n",
       "\n",
       "   favorites_x  genre_top  interest  license  ...    id_x  information  \\\n",
       "0            2          7      4656       36  ...       1         1644   \n",
       "1            1          7      1470       36  ...       1         1644   \n",
       "2            6          7      1933       36  ...       1         1644   \n",
       "3          178         12     54881       24  ...       6        11053   \n",
       "4            0          7       978       24  ...       4        10724   \n",
       "\n",
       "   listens_y  tags_y  tracks  favorites  id_y  members  name   tags  \n",
       "0       6073    2387       7          9     1    11914   299   1236  \n",
       "1       6073    2387       7          9     1    11914   299   1236  \n",
       "2       6073    2387       7          9     1    11914   299   1236  \n",
       "3      47632    2387       2         74     6     7780  7425  10645  \n",
       "4       2710    2387      13         10     4     9984  9558   6377  \n",
       "\n",
       "[5 rows x 26 columns]"
      ]
     },
     "execution_count": 6,
     "metadata": {},
     "output_type": "execute_result"
    }
   ],
   "source": [
    "df_info.head()"
   ]
  },
  {
   "cell_type": "code",
   "execution_count": 7,
   "metadata": {},
   "outputs": [],
   "source": [
    "#assigning the genre column as target\n",
    "target = df_info['genre_top']"
   ]
  },
  {
   "cell_type": "markdown",
   "metadata": {},
   "source": [
    "### Mel Frequency Cepstral Coefficients (MFCCs):"
   ]
  },
  {
   "cell_type": "markdown",
   "metadata": {},
   "source": [
    "<font color=darkblue>The mel frequency cepstral coefficients (MFCCs) of a signal are a small set of features (usually about 10-20) which concisely describe the overall shape of a spectral envelope. In sound processing, the mel-frequency cepstrum is a representation of the short-term power spectrum of a sound, based on a linear cosine transform of a log power spectrum on a nonlinear mel scale of frequency. MFCCs are also increasingly finding uses in music information retrieval applications such as genre classification, audio similarity measures. So here, we are trying to extract the mfcc feature of the audio files for Genre prediction.</font>"
   ]
  },
  {
   "cell_type": "code",
   "execution_count": 8,
   "metadata": {},
   "outputs": [
    {
     "name": "stdout",
     "output_type": "stream",
     "text": [
      "['mfcc', 'mfcc.1', 'mfcc.2', 'mfcc.3', 'mfcc.4', 'mfcc.5', 'mfcc.6', 'mfcc.7', 'mfcc.8', 'mfcc.9', 'mfcc.10', 'mfcc.11', 'mfcc.12', 'mfcc.13', 'mfcc.14', 'mfcc.15', 'mfcc.16', 'mfcc.17', 'mfcc.18', 'mfcc.19', 'mfcc.20', 'mfcc.21', 'mfcc.22', 'mfcc.23', 'mfcc.24', 'mfcc.25', 'mfcc.26', 'mfcc.27', 'mfcc.28', 'mfcc.29', 'mfcc.30', 'mfcc.31', 'mfcc.32', 'mfcc.33', 'mfcc.34', 'mfcc.35', 'mfcc.36', 'mfcc.37', 'mfcc.38', 'mfcc.39', 'mfcc.40', 'mfcc.41', 'mfcc.42', 'mfcc.43', 'mfcc.44', 'mfcc.45', 'mfcc.46', 'mfcc.47', 'mfcc.48', 'mfcc.49', 'mfcc.50', 'mfcc.51', 'mfcc.52', 'mfcc.53', 'mfcc.54', 'mfcc.55', 'mfcc.56', 'mfcc.57', 'mfcc.58', 'mfcc.59', 'mfcc.60', 'mfcc.61', 'mfcc.62', 'mfcc.63', 'mfcc.64', 'mfcc.65', 'mfcc.66', 'mfcc.67', 'mfcc.68', 'mfcc.69', 'mfcc.70', 'mfcc.71', 'mfcc.72', 'mfcc.73', 'mfcc.74', 'mfcc.75', 'mfcc.76', 'mfcc.77', 'mfcc.78', 'mfcc.79', 'mfcc.80', 'mfcc.81', 'mfcc.82', 'mfcc.83', 'mfcc.84', 'mfcc.85', 'mfcc.86', 'mfcc.87', 'mfcc.88', 'mfcc.89', 'mfcc.90', 'mfcc.91', 'mfcc.92', 'mfcc.93', 'mfcc.94', 'mfcc.95', 'mfcc.96', 'mfcc.97', 'mfcc.98', 'mfcc.99', 'mfcc.100', 'mfcc.101', 'mfcc.102', 'mfcc.103', 'mfcc.104', 'mfcc.105', 'mfcc.106', 'mfcc.107', 'mfcc.108', 'mfcc.109', 'mfcc.110', 'mfcc.111', 'mfcc.112', 'mfcc.113', 'mfcc.114', 'mfcc.115', 'mfcc.116', 'mfcc.117', 'mfcc.118', 'mfcc.119', 'mfcc.120', 'mfcc.121', 'mfcc.122', 'mfcc.123', 'mfcc.124', 'mfcc.125', 'mfcc.126', 'mfcc.127', 'mfcc.128', 'mfcc.129', 'mfcc.130', 'mfcc.131', 'mfcc.132', 'mfcc.133', 'mfcc.134', 'mfcc.135', 'mfcc.136', 'mfcc.137', 'mfcc.138', 'mfcc.139']\n"
     ]
    }
   ],
   "source": [
    "colList = list(df_features.columns)\n",
    "r = re.compile(\".*mfcc\")\n",
    "mfcc_col_list = list(filter(r.match, colList)) # Read Note\n",
    "print(mfcc_col_list)"
   ]
  },
  {
   "cell_type": "code",
   "execution_count": 9,
   "metadata": {},
   "outputs": [],
   "source": [
    "mfcc_col_list.append('feature') #feature has trackID information, we will clean it later"
   ]
  },
  {
   "cell_type": "code",
   "execution_count": 10,
   "metadata": {},
   "outputs": [],
   "source": [
    "df_mfcc = df_features[mfcc_col_list]"
   ]
  },
  {
   "cell_type": "code",
   "execution_count": 11,
   "metadata": {},
   "outputs": [],
   "source": [
    "df_mfcc = df_mfcc.drop(df_mfcc.index[[0, 1, 2]])"
   ]
  },
  {
   "cell_type": "code",
   "execution_count": 12,
   "metadata": {},
   "outputs": [],
   "source": [
    "df_mfcc = df_mfcc.rename(columns={'feature': 'trackID'})"
   ]
  },
  {
   "cell_type": "code",
   "execution_count": 13,
   "metadata": {},
   "outputs": [
    {
     "data": {
      "text/html": [
       "<div>\n",
       "<style scoped>\n",
       "    .dataframe tbody tr th:only-of-type {\n",
       "        vertical-align: middle;\n",
       "    }\n",
       "\n",
       "    .dataframe tbody tr th {\n",
       "        vertical-align: top;\n",
       "    }\n",
       "\n",
       "    .dataframe thead th {\n",
       "        text-align: right;\n",
       "    }\n",
       "</style>\n",
       "<table border=\"1\" class=\"dataframe\">\n",
       "  <thead>\n",
       "    <tr style=\"text-align: right;\">\n",
       "      <th></th>\n",
       "      <th>mfcc</th>\n",
       "      <th>mfcc.1</th>\n",
       "      <th>mfcc.2</th>\n",
       "      <th>mfcc.3</th>\n",
       "      <th>mfcc.4</th>\n",
       "      <th>mfcc.5</th>\n",
       "      <th>mfcc.6</th>\n",
       "      <th>mfcc.7</th>\n",
       "      <th>mfcc.8</th>\n",
       "      <th>mfcc.9</th>\n",
       "      <th>...</th>\n",
       "      <th>mfcc.131</th>\n",
       "      <th>mfcc.132</th>\n",
       "      <th>mfcc.133</th>\n",
       "      <th>mfcc.134</th>\n",
       "      <th>mfcc.135</th>\n",
       "      <th>mfcc.136</th>\n",
       "      <th>mfcc.137</th>\n",
       "      <th>mfcc.138</th>\n",
       "      <th>mfcc.139</th>\n",
       "      <th>trackID</th>\n",
       "    </tr>\n",
       "  </thead>\n",
       "  <tbody>\n",
       "    <tr>\n",
       "      <th>3</th>\n",
       "      <td>3.8567891121e+00</td>\n",
       "      <td>1.5419009924e+00</td>\n",
       "      <td>8.1644812599e-04</td>\n",
       "      <td>3.3072751760e-01</td>\n",
       "      <td>1.1873064935e-01</td>\n",
       "      <td>-3.4268733859e-01</td>\n",
       "      <td>-2.5925174356e-01</td>\n",
       "      <td>1.4673459530e-01</td>\n",
       "      <td>4.1065633297e-01</td>\n",
       "      <td>-1.6287201643e-01</td>\n",
       "      <td>...</td>\n",
       "      <td>8.6019420624e+00</td>\n",
       "      <td>9.2842502594e+00</td>\n",
       "      <td>9.2455158234e+00</td>\n",
       "      <td>8.5208625793e+00</td>\n",
       "      <td>8.5604715347e+00</td>\n",
       "      <td>7.6518712044e+00</td>\n",
       "      <td>7.2465553284e+00</td>\n",
       "      <td>7.0771875381e+00</td>\n",
       "      <td>7.3918590546e+00</td>\n",
       "      <td>2</td>\n",
       "    </tr>\n",
       "    <tr>\n",
       "      <th>4</th>\n",
       "      <td>4.2967548370e+00</td>\n",
       "      <td>1.3999768496e+00</td>\n",
       "      <td>1.1253461987e-01</td>\n",
       "      <td>-2.1117024124e-01</td>\n",
       "      <td>3.2953105867e-02</td>\n",
       "      <td>-2.3488676175e-02</td>\n",
       "      <td>1.5040439367e-01</td>\n",
       "      <td>4.6454448253e-02</td>\n",
       "      <td>3.3484123647e-02</td>\n",
       "      <td>-6.4595922828e-02</td>\n",
       "      <td>...</td>\n",
       "      <td>1.0026866913e+01</td>\n",
       "      <td>6.9785413742e+00</td>\n",
       "      <td>7.6504168510e+00</td>\n",
       "      <td>9.6003570557e+00</td>\n",
       "      <td>7.2228884697e+00</td>\n",
       "      <td>8.3982934952e+00</td>\n",
       "      <td>7.2854228020e+00</td>\n",
       "      <td>7.4177908897e+00</td>\n",
       "      <td>8.7774400711e+00</td>\n",
       "      <td>3</td>\n",
       "    </tr>\n",
       "    <tr>\n",
       "      <th>5</th>\n",
       "      <td>2.6245169640e+00</td>\n",
       "      <td>2.4152929783e+00</td>\n",
       "      <td>4.4023323059e-01</td>\n",
       "      <td>-7.8213083744e-01</td>\n",
       "      <td>-7.7106910944e-01</td>\n",
       "      <td>-7.2421586514e-01</td>\n",
       "      <td>9.0259902179e-02</td>\n",
       "      <td>1.5211921930e-01</td>\n",
       "      <td>2.6173117757e-01</td>\n",
       "      <td>-6.0890531540e-01</td>\n",
       "      <td>...</td>\n",
       "      <td>9.5819520950e+00</td>\n",
       "      <td>8.8957233429e+00</td>\n",
       "      <td>8.1414556503e+00</td>\n",
       "      <td>8.2018442154e+00</td>\n",
       "      <td>7.7809634209e+00</td>\n",
       "      <td>7.1326918602e+00</td>\n",
       "      <td>7.5397529602e+00</td>\n",
       "      <td>8.4525270462e+00</td>\n",
       "      <td>7.3344416618e+00</td>\n",
       "      <td>5</td>\n",
       "    </tr>\n",
       "    <tr>\n",
       "      <th>6</th>\n",
       "      <td>5.0768928528e+00</td>\n",
       "      <td>1.1618540287e+00</td>\n",
       "      <td>2.0956509113e+00</td>\n",
       "      <td>1.3727425337e+00</td>\n",
       "      <td>-2.0357376337e-01</td>\n",
       "      <td>-3.4535357356e-01</td>\n",
       "      <td>-5.2913892269e-01</td>\n",
       "      <td>5.6197351217e-01</td>\n",
       "      <td>2.8135043383e-01</td>\n",
       "      <td>-1.5067242086e-01</td>\n",
       "      <td>...</td>\n",
       "      <td>7.9851098061e+00</td>\n",
       "      <td>7.0753998756e+00</td>\n",
       "      <td>6.9726486206e+00</td>\n",
       "      <td>7.0713930130e+00</td>\n",
       "      <td>7.2709589005e+00</td>\n",
       "      <td>7.0510702133e+00</td>\n",
       "      <td>6.9285907745e+00</td>\n",
       "      <td>6.4304733276e+00</td>\n",
       "      <td>6.1862936020e+00</td>\n",
       "      <td>10</td>\n",
       "    </tr>\n",
       "    <tr>\n",
       "      <th>7</th>\n",
       "      <td>1.1880131721e+01</td>\n",
       "      <td>4.0853204727e+00</td>\n",
       "      <td>2.6549834292e-03</td>\n",
       "      <td>1.5185616016e+00</td>\n",
       "      <td>1.8194729090e-01</td>\n",
       "      <td>3.3901408315e-01</td>\n",
       "      <td>3.6761111021e-01</td>\n",
       "      <td>6.9932222366e-02</td>\n",
       "      <td>-1.6031917185e-02</td>\n",
       "      <td>2.6011556387e-02</td>\n",
       "      <td>...</td>\n",
       "      <td>6.4989037514e+00</td>\n",
       "      <td>6.8455138206e+00</td>\n",
       "      <td>6.9344205856e+00</td>\n",
       "      <td>7.0193977356e+00</td>\n",
       "      <td>6.9838414192e+00</td>\n",
       "      <td>6.8136477470e+00</td>\n",
       "      <td>7.5208110809e+00</td>\n",
       "      <td>7.0980010033e+00</td>\n",
       "      <td>7.0322456360e+00</td>\n",
       "      <td>20</td>\n",
       "    </tr>\n",
       "  </tbody>\n",
       "</table>\n",
       "<p>5 rows × 141 columns</p>\n",
       "</div>"
      ],
      "text/plain": [
       "               mfcc            mfcc.1            mfcc.2             mfcc.3  \\\n",
       "3  3.8567891121e+00  1.5419009924e+00  8.1644812599e-04   3.3072751760e-01   \n",
       "4  4.2967548370e+00  1.3999768496e+00  1.1253461987e-01  -2.1117024124e-01   \n",
       "5  2.6245169640e+00  2.4152929783e+00  4.4023323059e-01  -7.8213083744e-01   \n",
       "6  5.0768928528e+00  1.1618540287e+00  2.0956509113e+00   1.3727425337e+00   \n",
       "7  1.1880131721e+01  4.0853204727e+00  2.6549834292e-03   1.5185616016e+00   \n",
       "\n",
       "              mfcc.4             mfcc.5             mfcc.6            mfcc.7  \\\n",
       "3   1.1873064935e-01  -3.4268733859e-01  -2.5925174356e-01  1.4673459530e-01   \n",
       "4   3.2953105867e-02  -2.3488676175e-02   1.5040439367e-01  4.6454448253e-02   \n",
       "5  -7.7106910944e-01  -7.2421586514e-01   9.0259902179e-02  1.5211921930e-01   \n",
       "6  -2.0357376337e-01  -3.4535357356e-01  -5.2913892269e-01  5.6197351217e-01   \n",
       "7   1.8194729090e-01   3.3901408315e-01   3.6761111021e-01  6.9932222366e-02   \n",
       "\n",
       "              mfcc.8             mfcc.9   ...            mfcc.131  \\\n",
       "3   4.1065633297e-01  -1.6287201643e-01   ...    8.6019420624e+00   \n",
       "4   3.3484123647e-02  -6.4595922828e-02   ...    1.0026866913e+01   \n",
       "5   2.6173117757e-01  -6.0890531540e-01   ...    9.5819520950e+00   \n",
       "6   2.8135043383e-01  -1.5067242086e-01   ...    7.9851098061e+00   \n",
       "7  -1.6031917185e-02   2.6011556387e-02   ...    6.4989037514e+00   \n",
       "\n",
       "           mfcc.132          mfcc.133          mfcc.134          mfcc.135  \\\n",
       "3  9.2842502594e+00  9.2455158234e+00  8.5208625793e+00  8.5604715347e+00   \n",
       "4  6.9785413742e+00  7.6504168510e+00  9.6003570557e+00  7.2228884697e+00   \n",
       "5  8.8957233429e+00  8.1414556503e+00  8.2018442154e+00  7.7809634209e+00   \n",
       "6  7.0753998756e+00  6.9726486206e+00  7.0713930130e+00  7.2709589005e+00   \n",
       "7  6.8455138206e+00  6.9344205856e+00  7.0193977356e+00  6.9838414192e+00   \n",
       "\n",
       "           mfcc.136          mfcc.137          mfcc.138          mfcc.139  \\\n",
       "3  7.6518712044e+00  7.2465553284e+00  7.0771875381e+00  7.3918590546e+00   \n",
       "4  8.3982934952e+00  7.2854228020e+00  7.4177908897e+00  8.7774400711e+00   \n",
       "5  7.1326918602e+00  7.5397529602e+00  8.4525270462e+00  7.3344416618e+00   \n",
       "6  7.0510702133e+00  6.9285907745e+00  6.4304733276e+00  6.1862936020e+00   \n",
       "7  6.8136477470e+00  7.5208110809e+00  7.0980010033e+00  7.0322456360e+00   \n",
       "\n",
       "  trackID  \n",
       "3       2  \n",
       "4       3  \n",
       "5       5  \n",
       "6      10  \n",
       "7      20  \n",
       "\n",
       "[5 rows x 141 columns]"
      ]
     },
     "execution_count": 13,
     "metadata": {},
     "output_type": "execute_result"
    }
   ],
   "source": [
    "df_mfcc.head()"
   ]
  },
  {
   "cell_type": "code",
   "execution_count": 14,
   "metadata": {},
   "outputs": [
    {
     "data": {
      "text/plain": [
       "(106574, 141)"
      ]
     },
     "execution_count": 14,
     "metadata": {},
     "output_type": "execute_result"
    }
   ],
   "source": [
    "df_mfcc.shape"
   ]
  },
  {
   "cell_type": "code",
   "execution_count": 15,
   "metadata": {},
   "outputs": [
    {
     "data": {
      "text/plain": [
       "(106574, 26)"
      ]
     },
     "execution_count": 15,
     "metadata": {},
     "output_type": "execute_result"
    }
   ],
   "source": [
    "df_info.shape"
   ]
  },
  {
   "cell_type": "code",
   "execution_count": 16,
   "metadata": {},
   "outputs": [],
   "source": [
    "#split data set into train and test sets\n",
    "data_train, data_test, target_train, target_test = train_test_split(\n",
    "    df_mfcc, target, test_size = 0.30, random_state = 10)"
   ]
  },
  {
   "cell_type": "code",
   "execution_count": 17,
   "metadata": {},
   "outputs": [],
   "source": [
    "from sklearn.linear_model import LogisticRegression"
   ]
  },
  {
   "cell_type": "code",
   "execution_count": 18,
   "metadata": {},
   "outputs": [],
   "source": [
    "# Make an instance of the Model\n",
    "# all parameters not specified are set to their defaults\n",
    "logisticRegr = LogisticRegression(max_iter=1000)"
   ]
  },
  {
   "cell_type": "code",
   "execution_count": 19,
   "metadata": {},
   "outputs": [
    {
     "data": {
      "text/plain": [
       "LogisticRegression(C=1.0, class_weight=None, dual=False, fit_intercept=True,\n",
       "          intercept_scaling=1, max_iter=1000, multi_class='warn',\n",
       "          n_jobs=None, penalty='l2', random_state=None, solver='warn',\n",
       "          tol=0.0001, verbose=0, warm_start=False)"
      ]
     },
     "execution_count": 19,
     "metadata": {},
     "output_type": "execute_result"
    }
   ],
   "source": [
    "logisticRegr.fit(data_train, target_train)"
   ]
  },
  {
   "cell_type": "code",
   "execution_count": 20,
   "metadata": {},
   "outputs": [],
   "source": [
    "predictions = logisticRegr.predict(data_test)"
   ]
  },
  {
   "cell_type": "code",
   "execution_count": 21,
   "metadata": {},
   "outputs": [
    {
     "name": "stdout",
     "output_type": "stream",
     "text": [
      "0.6014449691927564\n"
     ]
    }
   ],
   "source": [
    "# Use score method to get accuracy of model\n",
    "score = logisticRegr.score(data_test, target_test)\n",
    "print(score)"
   ]
  },
  {
   "cell_type": "markdown",
   "metadata": {},
   "source": [
    "**<font color=green>There is an improvement to previous hypothesis but still there is room for a better model.</font>**"
   ]
  },
  {
   "cell_type": "markdown",
   "metadata": {},
   "source": [
    "<font color=darkblue>Now, I want to use the whole feature data for Genre classification instead of only mfcc characteristics. In order to do so, let's prepare the whole dataset.</font>"
   ]
  },
  {
   "cell_type": "code",
   "execution_count": 22,
   "metadata": {},
   "outputs": [
    {
     "data": {
      "text/html": [
       "<div>\n",
       "<style scoped>\n",
       "    .dataframe tbody tr th:only-of-type {\n",
       "        vertical-align: middle;\n",
       "    }\n",
       "\n",
       "    .dataframe tbody tr th {\n",
       "        vertical-align: top;\n",
       "    }\n",
       "\n",
       "    .dataframe thead th {\n",
       "        text-align: right;\n",
       "    }\n",
       "</style>\n",
       "<table border=\"1\" class=\"dataframe\">\n",
       "  <thead>\n",
       "    <tr style=\"text-align: right;\">\n",
       "      <th></th>\n",
       "      <th>Unnamed: 0</th>\n",
       "      <th>feature</th>\n",
       "      <th>chroma_cens</th>\n",
       "      <th>chroma_cens.1</th>\n",
       "      <th>chroma_cens.2</th>\n",
       "      <th>chroma_cens.3</th>\n",
       "      <th>chroma_cens.4</th>\n",
       "      <th>chroma_cens.5</th>\n",
       "      <th>chroma_cens.6</th>\n",
       "      <th>chroma_cens.7</th>\n",
       "      <th>...</th>\n",
       "      <th>tonnetz.39</th>\n",
       "      <th>tonnetz.40</th>\n",
       "      <th>tonnetz.41</th>\n",
       "      <th>zcr</th>\n",
       "      <th>zcr.1</th>\n",
       "      <th>zcr.2</th>\n",
       "      <th>zcr.3</th>\n",
       "      <th>zcr.4</th>\n",
       "      <th>zcr.5</th>\n",
       "      <th>zcr.6</th>\n",
       "    </tr>\n",
       "  </thead>\n",
       "  <tbody>\n",
       "    <tr>\n",
       "      <th>0</th>\n",
       "      <td>0</td>\n",
       "      <td>statistics</td>\n",
       "      <td>kurtosis</td>\n",
       "      <td>kurtosis</td>\n",
       "      <td>kurtosis</td>\n",
       "      <td>kurtosis</td>\n",
       "      <td>kurtosis</td>\n",
       "      <td>kurtosis</td>\n",
       "      <td>kurtosis</td>\n",
       "      <td>kurtosis</td>\n",
       "      <td>...</td>\n",
       "      <td>std</td>\n",
       "      <td>std</td>\n",
       "      <td>std</td>\n",
       "      <td>kurtosis</td>\n",
       "      <td>max</td>\n",
       "      <td>mean</td>\n",
       "      <td>median</td>\n",
       "      <td>min</td>\n",
       "      <td>skew</td>\n",
       "      <td>std</td>\n",
       "    </tr>\n",
       "    <tr>\n",
       "      <th>1</th>\n",
       "      <td>1</td>\n",
       "      <td>number</td>\n",
       "      <td>01</td>\n",
       "      <td>02</td>\n",
       "      <td>03</td>\n",
       "      <td>04</td>\n",
       "      <td>05</td>\n",
       "      <td>06</td>\n",
       "      <td>07</td>\n",
       "      <td>08</td>\n",
       "      <td>...</td>\n",
       "      <td>04</td>\n",
       "      <td>05</td>\n",
       "      <td>06</td>\n",
       "      <td>01</td>\n",
       "      <td>01</td>\n",
       "      <td>01</td>\n",
       "      <td>01</td>\n",
       "      <td>01</td>\n",
       "      <td>01</td>\n",
       "      <td>01</td>\n",
       "    </tr>\n",
       "    <tr>\n",
       "      <th>2</th>\n",
       "      <td>2</td>\n",
       "      <td>track_id</td>\n",
       "      <td>NaN</td>\n",
       "      <td>NaN</td>\n",
       "      <td>NaN</td>\n",
       "      <td>NaN</td>\n",
       "      <td>NaN</td>\n",
       "      <td>NaN</td>\n",
       "      <td>NaN</td>\n",
       "      <td>NaN</td>\n",
       "      <td>...</td>\n",
       "      <td>NaN</td>\n",
       "      <td>NaN</td>\n",
       "      <td>NaN</td>\n",
       "      <td>NaN</td>\n",
       "      <td>NaN</td>\n",
       "      <td>NaN</td>\n",
       "      <td>NaN</td>\n",
       "      <td>NaN</td>\n",
       "      <td>NaN</td>\n",
       "      <td>NaN</td>\n",
       "    </tr>\n",
       "    <tr>\n",
       "      <th>3</th>\n",
       "      <td>3</td>\n",
       "      <td>2</td>\n",
       "      <td>7.1806526184e+00</td>\n",
       "      <td>5.2303090096e+00</td>\n",
       "      <td>2.4932080507e-01</td>\n",
       "      <td>1.3476201296e+00</td>\n",
       "      <td>1.4824777842e+00</td>\n",
       "      <td>5.3137123585e-01</td>\n",
       "      <td>1.4815930128e+00</td>\n",
       "      <td>2.6914546490e+00</td>\n",
       "      <td>...</td>\n",
       "      <td>5.4125156254e-02</td>\n",
       "      <td>1.2225749902e-02</td>\n",
       "      <td>1.2110591866e-02</td>\n",
       "      <td>5.7588901520e+00</td>\n",
       "      <td>4.5947265625e-01</td>\n",
       "      <td>8.5629448295e-02</td>\n",
       "      <td>7.1289062500e-02</td>\n",
       "      <td>0.0000000000e+00</td>\n",
       "      <td>2.0898721218e+00</td>\n",
       "      <td>6.1448108405e-02</td>\n",
       "    </tr>\n",
       "    <tr>\n",
       "      <th>4</th>\n",
       "      <td>4</td>\n",
       "      <td>3</td>\n",
       "      <td>1.8889633417e+00</td>\n",
       "      <td>7.6053929329e-01</td>\n",
       "      <td>3.4529656172e-01</td>\n",
       "      <td>2.2952005863e+00</td>\n",
       "      <td>1.6540306807e+00</td>\n",
       "      <td>6.7592434585e-02</td>\n",
       "      <td>1.3668476343e+00</td>\n",
       "      <td>1.0540937185e+00</td>\n",
       "      <td>...</td>\n",
       "      <td>6.3831120729e-02</td>\n",
       "      <td>1.4211839065e-02</td>\n",
       "      <td>1.7740072682e-02</td>\n",
       "      <td>2.8246941566e+00</td>\n",
       "      <td>4.6630859375e-01</td>\n",
       "      <td>8.4578499198e-02</td>\n",
       "      <td>6.3964843750e-02</td>\n",
       "      <td>0.0000000000e+00</td>\n",
       "      <td>1.7167237997e+00</td>\n",
       "      <td>6.9330163300e-02</td>\n",
       "    </tr>\n",
       "  </tbody>\n",
       "</table>\n",
       "<p>5 rows × 520 columns</p>\n",
       "</div>"
      ],
      "text/plain": [
       "   Unnamed: 0     feature       chroma_cens     chroma_cens.1  \\\n",
       "0           0  statistics          kurtosis          kurtosis   \n",
       "1           1      number                01                02   \n",
       "2           2    track_id               NaN               NaN   \n",
       "3           3           2  7.1806526184e+00  5.2303090096e+00   \n",
       "4           4           3  1.8889633417e+00  7.6053929329e-01   \n",
       "\n",
       "      chroma_cens.2     chroma_cens.3     chroma_cens.4     chroma_cens.5  \\\n",
       "0          kurtosis          kurtosis          kurtosis          kurtosis   \n",
       "1                03                04                05                06   \n",
       "2               NaN               NaN               NaN               NaN   \n",
       "3  2.4932080507e-01  1.3476201296e+00  1.4824777842e+00  5.3137123585e-01   \n",
       "4  3.4529656172e-01  2.2952005863e+00  1.6540306807e+00  6.7592434585e-02   \n",
       "\n",
       "      chroma_cens.6     chroma_cens.7        ...               tonnetz.39  \\\n",
       "0          kurtosis          kurtosis        ...                      std   \n",
       "1                07                08        ...                       04   \n",
       "2               NaN               NaN        ...                      NaN   \n",
       "3  1.4815930128e+00  2.6914546490e+00        ...         5.4125156254e-02   \n",
       "4  1.3668476343e+00  1.0540937185e+00        ...         6.3831120729e-02   \n",
       "\n",
       "         tonnetz.40        tonnetz.41               zcr             zcr.1  \\\n",
       "0               std               std          kurtosis               max   \n",
       "1                05                06                01                01   \n",
       "2               NaN               NaN               NaN               NaN   \n",
       "3  1.2225749902e-02  1.2110591866e-02  5.7588901520e+00  4.5947265625e-01   \n",
       "4  1.4211839065e-02  1.7740072682e-02  2.8246941566e+00  4.6630859375e-01   \n",
       "\n",
       "              zcr.2             zcr.3             zcr.4             zcr.5  \\\n",
       "0              mean            median               min              skew   \n",
       "1                01                01                01                01   \n",
       "2               NaN               NaN               NaN               NaN   \n",
       "3  8.5629448295e-02  7.1289062500e-02  0.0000000000e+00  2.0898721218e+00   \n",
       "4  8.4578499198e-02  6.3964843750e-02  0.0000000000e+00  1.7167237997e+00   \n",
       "\n",
       "              zcr.6  \n",
       "0               std  \n",
       "1                01  \n",
       "2               NaN  \n",
       "3  6.1448108405e-02  \n",
       "4  6.9330163300e-02  \n",
       "\n",
       "[5 rows x 520 columns]"
      ]
     },
     "execution_count": 22,
     "metadata": {},
     "output_type": "execute_result"
    }
   ],
   "source": [
    "df_features.head()"
   ]
  },
  {
   "cell_type": "code",
   "execution_count": 23,
   "metadata": {},
   "outputs": [],
   "source": [
    "features = df_features.drop(df_features.index[[0, 1, 2]])"
   ]
  },
  {
   "cell_type": "code",
   "execution_count": 24,
   "metadata": {},
   "outputs": [],
   "source": [
    "# Make an instance of the Model\n",
    "# all parameters not specified are set to their defaults\n",
    "logReg = LogisticRegression(max_iter=1000)"
   ]
  },
  {
   "cell_type": "code",
   "execution_count": 25,
   "metadata": {},
   "outputs": [],
   "source": [
    "#split data set into train and test sets\n",
    "data_train2, data_test2, target_train2, target_test2 = train_test_split(\n",
    "    features, target, test_size = 0.30, random_state = 10)"
   ]
  },
  {
   "cell_type": "code",
   "execution_count": 26,
   "metadata": {},
   "outputs": [
    {
     "data": {
      "text/plain": [
       "LogisticRegression(C=1.0, class_weight=None, dual=False, fit_intercept=True,\n",
       "          intercept_scaling=1, max_iter=1000, multi_class='warn',\n",
       "          n_jobs=None, penalty='l2', random_state=None, solver='warn',\n",
       "          tol=0.0001, verbose=0, warm_start=False)"
      ]
     },
     "execution_count": 26,
     "metadata": {},
     "output_type": "execute_result"
    }
   ],
   "source": [
    "logReg.fit(data_train2, target_train2) #slow! :-S"
   ]
  },
  {
   "cell_type": "code",
   "execution_count": 27,
   "metadata": {},
   "outputs": [],
   "source": [
    "predictions2 = logReg.predict(data_test2)"
   ]
  },
  {
   "cell_type": "code",
   "execution_count": 28,
   "metadata": {},
   "outputs": [
    {
     "name": "stdout",
     "output_type": "stream",
     "text": [
      "0.6144559472054546\n"
     ]
    }
   ],
   "source": [
    "# Use score method to get accuracy of model\n",
    "score2 = logReg.score(data_test2, target_test2)\n",
    "print(score2)"
   ]
  },
  {
   "cell_type": "markdown",
   "metadata": {},
   "source": [
    "**<font color=green>We have the accuracy of which is a slight improvement compared to previous model. However the run time was much longer than the previous model. (Never mind 😨)</font>**"
   ]
  },
  {
   "cell_type": "markdown",
   "metadata": {},
   "source": [
    "#### Test the model for my song:"
   ]
  },
  {
   "cell_type": "code",
   "execution_count": 31,
   "metadata": {},
   "outputs": [],
   "source": [
    "ahaykhabardar = pd.read_csv(\"./Data/ahaykhabardar.csv\")"
   ]
  },
  {
   "cell_type": "code",
   "execution_count": 32,
   "metadata": {},
   "outputs": [
    {
     "data": {
      "text/html": [
       "<div>\n",
       "<style scoped>\n",
       "    .dataframe tbody tr th:only-of-type {\n",
       "        vertical-align: middle;\n",
       "    }\n",
       "\n",
       "    .dataframe tbody tr th {\n",
       "        vertical-align: top;\n",
       "    }\n",
       "\n",
       "    .dataframe thead th {\n",
       "        text-align: right;\n",
       "    }\n",
       "</style>\n",
       "<table border=\"1\" class=\"dataframe\">\n",
       "  <thead>\n",
       "    <tr style=\"text-align: right;\">\n",
       "      <th></th>\n",
       "      <th>Unnamed: 0</th>\n",
       "      <th>Unnamed: 0.1</th>\n",
       "      <th>feature</th>\n",
       "      <th>chroma_cens</th>\n",
       "      <th>chroma_cens.1</th>\n",
       "      <th>chroma_cens.2</th>\n",
       "      <th>chroma_cens.3</th>\n",
       "      <th>chroma_cens.4</th>\n",
       "      <th>chroma_cens.5</th>\n",
       "      <th>chroma_cens.6</th>\n",
       "      <th>...</th>\n",
       "      <th>tonnetz.39</th>\n",
       "      <th>tonnetz.40</th>\n",
       "      <th>tonnetz.41</th>\n",
       "      <th>zcr</th>\n",
       "      <th>zcr.1</th>\n",
       "      <th>zcr.2</th>\n",
       "      <th>zcr.3</th>\n",
       "      <th>zcr.4</th>\n",
       "      <th>zcr.5</th>\n",
       "      <th>zcr.6</th>\n",
       "    </tr>\n",
       "  </thead>\n",
       "  <tbody>\n",
       "    <tr>\n",
       "      <th>0</th>\n",
       "      <td>3</td>\n",
       "      <td>737373737373737</td>\n",
       "      <td>1</td>\n",
       "      <td>-0.595208</td>\n",
       "      <td>-0.790701</td>\n",
       "      <td>-0.651629</td>\n",
       "      <td>-0.56621</td>\n",
       "      <td>-0.2063</td>\n",
       "      <td>0.797669</td>\n",
       "      <td>-1.035652</td>\n",
       "      <td>...</td>\n",
       "      <td>0.128328</td>\n",
       "      <td>0.025725</td>\n",
       "      <td>0.02421</td>\n",
       "      <td>38.642639</td>\n",
       "      <td>0.471191</td>\n",
       "      <td>0.034443</td>\n",
       "      <td>0.026855</td>\n",
       "      <td>0.0</td>\n",
       "      <td>5.540561</td>\n",
       "      <td>0.036301</td>\n",
       "    </tr>\n",
       "  </tbody>\n",
       "</table>\n",
       "<p>1 rows × 521 columns</p>\n",
       "</div>"
      ],
      "text/plain": [
       "   Unnamed: 0     Unnamed: 0.1  feature  chroma_cens  chroma_cens.1  \\\n",
       "0           3  737373737373737        1    -0.595208      -0.790701   \n",
       "\n",
       "   chroma_cens.2  chroma_cens.3  chroma_cens.4  chroma_cens.5  chroma_cens.6  \\\n",
       "0      -0.651629       -0.56621        -0.2063       0.797669      -1.035652   \n",
       "\n",
       "     ...     tonnetz.39  tonnetz.40  tonnetz.41        zcr     zcr.1  \\\n",
       "0    ...       0.128328    0.025725     0.02421  38.642639  0.471191   \n",
       "\n",
       "      zcr.2     zcr.3  zcr.4     zcr.5     zcr.6  \n",
       "0  0.034443  0.026855    0.0  5.540561  0.036301  \n",
       "\n",
       "[1 rows x 521 columns]"
      ]
     },
     "execution_count": 32,
     "metadata": {},
     "output_type": "execute_result"
    }
   ],
   "source": [
    "ahaykhabardar.head()"
   ]
  },
  {
   "cell_type": "code",
   "execution_count": 33,
   "metadata": {},
   "outputs": [],
   "source": [
    "ahaykhabardar.drop('Unnamed: 0', axis=1, inplace=True)"
   ]
  },
  {
   "cell_type": "code",
   "execution_count": 34,
   "metadata": {},
   "outputs": [],
   "source": [
    "ahaykhabardar.rename(columns={'Unnamed: 0.1': 'Unnamed: 0'}, inplace=True)"
   ]
  },
  {
   "cell_type": "code",
   "execution_count": 35,
   "metadata": {},
   "outputs": [],
   "source": [
    "songahaykhabardar = ahaykhabardar.fillna(0)"
   ]
  },
  {
   "cell_type": "code",
   "execution_count": 36,
   "metadata": {},
   "outputs": [],
   "source": [
    "df_mfcc_songahaykhabardar = songahaykhabardar[mfcc_col_list]"
   ]
  },
  {
   "cell_type": "code",
   "execution_count": 37,
   "metadata": {},
   "outputs": [],
   "source": [
    "prediction_for_my_songahaykhabardar = logisticRegr.predict(df_mfcc_songahaykhabardar)"
   ]
  },
  {
   "cell_type": "code",
   "execution_count": 38,
   "metadata": {},
   "outputs": [
    {
     "data": {
      "text/plain": [
       "array([11])"
      ]
     },
     "execution_count": 38,
     "metadata": {},
     "output_type": "execute_result"
    }
   ],
   "source": [
    "prediction_for_my_songahaykhabardar"
   ]
  },
  {
   "cell_type": "code",
   "execution_count": 39,
   "metadata": {},
   "outputs": [],
   "source": [
    "df_info2 = pd.read_csv(\"./Data/prepdata/info.csv\", parse_dates = parse_dates)"
   ]
  },
  {
   "cell_type": "code",
   "execution_count": 40,
   "metadata": {},
   "outputs": [
    {
     "data": {
      "text/plain": [
       "array([ 7,  7,  7, ..., 13, 13,  7])"
      ]
     },
     "execution_count": 40,
     "metadata": {},
     "output_type": "execute_result"
    }
   ],
   "source": [
    "le.fit_transform(df_info2['genre_top'])"
   ]
  },
  {
   "cell_type": "code",
   "execution_count": 41,
   "metadata": {},
   "outputs": [
    {
     "name": "stdout",
     "output_type": "stream",
     "text": [
      "{'Blues': 0, 'Classical': 1, 'Country': 2, 'Easy Listening': 3, 'Electronic': 4, 'Experimental': 5, 'Folk': 6, 'Hip-Hop': 7, 'Instrumental': 8, 'International': 9, 'Jazz': 10, 'Old-Time / Historic': 11, 'Pop': 12, 'Rock': 13, 'Soul-RnB': 14, 'Spoken': 15}\n"
     ]
    }
   ],
   "source": [
    "le_genre_mapping = dict(zip(le.classes_, le.transform(le.classes_)))\n",
    "print(le_genre_mapping)"
   ]
  },
  {
   "cell_type": "markdown",
   "metadata": {},
   "source": [
    "**<font color=green>So the closest genre for the random chosen song is Old-Time/Historic!</font>**"
   ]
  },
  {
   "cell_type": "markdown",
   "metadata": {},
   "source": [
    "**Now let's try the model for another song:**"
   ]
  },
  {
   "cell_type": "code",
   "execution_count": 49,
   "metadata": {},
   "outputs": [
    {
     "data": {
      "text/html": [
       "<div>\n",
       "<style scoped>\n",
       "    .dataframe tbody tr th:only-of-type {\n",
       "        vertical-align: middle;\n",
       "    }\n",
       "\n",
       "    .dataframe tbody tr th {\n",
       "        vertical-align: top;\n",
       "    }\n",
       "\n",
       "    .dataframe thead th {\n",
       "        text-align: right;\n",
       "    }\n",
       "</style>\n",
       "<table border=\"1\" class=\"dataframe\">\n",
       "  <thead>\n",
       "    <tr style=\"text-align: right;\">\n",
       "      <th></th>\n",
       "      <th>Unnamed: 0</th>\n",
       "      <th>Unnamed: 0.1</th>\n",
       "      <th>feature</th>\n",
       "      <th>chroma_cens</th>\n",
       "      <th>chroma_cens.1</th>\n",
       "      <th>chroma_cens.2</th>\n",
       "      <th>chroma_cens.3</th>\n",
       "      <th>chroma_cens.4</th>\n",
       "      <th>chroma_cens.5</th>\n",
       "      <th>chroma_cens.6</th>\n",
       "      <th>...</th>\n",
       "      <th>tonnetz.39</th>\n",
       "      <th>tonnetz.40</th>\n",
       "      <th>tonnetz.41</th>\n",
       "      <th>zcr</th>\n",
       "      <th>zcr.1</th>\n",
       "      <th>zcr.2</th>\n",
       "      <th>zcr.3</th>\n",
       "      <th>zcr.4</th>\n",
       "      <th>zcr.5</th>\n",
       "      <th>zcr.6</th>\n",
       "    </tr>\n",
       "  </thead>\n",
       "  <tbody>\n",
       "    <tr>\n",
       "      <th>0</th>\n",
       "      <td>2</td>\n",
       "      <td>737373737373737</td>\n",
       "      <td>0</td>\n",
       "      <td>-1.281837</td>\n",
       "      <td>-0.949361</td>\n",
       "      <td>-1.323908</td>\n",
       "      <td>-1.369294</td>\n",
       "      <td>-0.818135</td>\n",
       "      <td>1.477261</td>\n",
       "      <td>-0.66137</td>\n",
       "      <td>...</td>\n",
       "      <td>0.158375</td>\n",
       "      <td>0.029285</td>\n",
       "      <td>0.026213</td>\n",
       "      <td>29.097673</td>\n",
       "      <td>0.415039</td>\n",
       "      <td>0.045508</td>\n",
       "      <td>0.037598</td>\n",
       "      <td>0.00293</td>\n",
       "      <td>4.427715</td>\n",
       "      <td>0.033465</td>\n",
       "    </tr>\n",
       "  </tbody>\n",
       "</table>\n",
       "<p>1 rows × 521 columns</p>\n",
       "</div>"
      ],
      "text/plain": [
       "   Unnamed: 0     Unnamed: 0.1  feature  chroma_cens  chroma_cens.1  \\\n",
       "0           2  737373737373737        0    -1.281837      -0.949361   \n",
       "\n",
       "   chroma_cens.2  chroma_cens.3  chroma_cens.4  chroma_cens.5  chroma_cens.6  \\\n",
       "0      -1.323908      -1.369294      -0.818135       1.477261       -0.66137   \n",
       "\n",
       "     ...     tonnetz.39  tonnetz.40  tonnetz.41        zcr     zcr.1  \\\n",
       "0    ...       0.158375    0.029285    0.026213  29.097673  0.415039   \n",
       "\n",
       "      zcr.2     zcr.3    zcr.4     zcr.5     zcr.6  \n",
       "0  0.045508  0.037598  0.00293  4.427715  0.033465  \n",
       "\n",
       "[1 rows x 521 columns]"
      ]
     },
     "execution_count": 49,
     "metadata": {},
     "output_type": "execute_result"
    }
   ],
   "source": [
    "karaninadarad = pd.read_csv(\"./Data/karaninadarad.csv\")\n",
    "karaninadarad.head()"
   ]
  },
  {
   "cell_type": "code",
   "execution_count": 50,
   "metadata": {},
   "outputs": [],
   "source": [
    "karaninadarad.drop('Unnamed: 0', axis=1, inplace=True)"
   ]
  },
  {
   "cell_type": "code",
   "execution_count": 51,
   "metadata": {},
   "outputs": [],
   "source": [
    "karaninadarad.rename(columns={'Unnamed: 0.1': 'Unnamed: 0'}, inplace=True)"
   ]
  },
  {
   "cell_type": "code",
   "execution_count": 52,
   "metadata": {},
   "outputs": [],
   "source": [
    "songkaraninadarad = karaninadarad.fillna(0)"
   ]
  },
  {
   "cell_type": "code",
   "execution_count": 53,
   "metadata": {},
   "outputs": [],
   "source": [
    "df_mfcc_songkaraninadarad = songkaraninadarad[mfcc_col_list]"
   ]
  },
  {
   "cell_type": "code",
   "execution_count": 54,
   "metadata": {},
   "outputs": [],
   "source": [
    "prediction_for_my_songkaraninadarad = logisticRegr.predict(df_mfcc_songkaraninadarad)"
   ]
  },
  {
   "cell_type": "code",
   "execution_count": 55,
   "metadata": {},
   "outputs": [
    {
     "data": {
      "text/plain": [
       "array([7])"
      ]
     },
     "execution_count": 55,
     "metadata": {},
     "output_type": "execute_result"
    }
   ],
   "source": [
    "prediction_for_my_songkaraninadarad"
   ]
  },
  {
   "cell_type": "markdown",
   "metadata": {},
   "source": [
    "**<font color=green>So the closest genre for the random chosen song is Hip-Hop!</font>**"
   ]
  },
  {
   "cell_type": "code",
   "execution_count": null,
   "metadata": {},
   "outputs": [],
   "source": []
  }
 ],
 "metadata": {
  "kernelspec": {
   "display_name": "Python 3",
   "language": "python",
   "name": "python3"
  },
  "language_info": {
   "codemirror_mode": {
    "name": "ipython",
    "version": 3
   },
   "file_extension": ".py",
   "mimetype": "text/x-python",
   "name": "python",
   "nbconvert_exporter": "python",
   "pygments_lexer": "ipython3",
   "version": "3.6.5"
  }
 },
 "nbformat": 4,
 "nbformat_minor": 2
}
