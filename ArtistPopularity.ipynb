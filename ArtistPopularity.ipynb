{
 "cells": [
  {
   "cell_type": "markdown",
   "metadata": {},
   "source": [
    "##  \"Pedicting Artist Hotness\""
   ]
  },
  {
   "cell_type": "markdown",
   "metadata": {},
   "source": [
    "#### <font color=green> Will an artist be popular? </font>\n",
    "#### <font color=green> What factors make an artist popular? </font>"
   ]
  },
  {
   "cell_type": "markdown",
   "metadata": {},
   "source": [
    "#### Libraries in Use"
   ]
  },
  {
   "cell_type": "code",
   "execution_count": 69,
   "metadata": {
    "collapsed": true
   },
   "outputs": [],
   "source": [
    "import re\n",
    "import csv\n",
    "import pandas as pd\n",
    "import IPython.display as ipd\n",
    "import numpy as np\n",
    "%matplotlib inline\n",
    "from matplotlib import pyplot as plt\n",
    "import warnings\n",
    "warnings.simplefilter(action='ignore', category=FutureWarning)\n",
    "from sklearn.model_selection import train_test_split\n",
    "from sklearn.preprocessing import MultiLabelBinarizer, LabelEncoder, StandardScaler\n",
    "from functools import reduce\n",
    "import seaborn as sns"
   ]
  },
  {
   "cell_type": "markdown",
   "metadata": {},
   "source": [
    "#### Load the data:"
   ]
  },
  {
   "cell_type": "code",
   "execution_count": 70,
   "metadata": {
    "collapsed": true
   },
   "outputs": [],
   "source": [
    "df_Ffeatures = pd.read_csv(\"./prepdata/Audio_Features.csv\", low_memory=False)"
   ]
  },
  {
   "cell_type": "code",
   "execution_count": 71,
   "metadata": {
    "collapsed": true
   },
   "outputs": [],
   "source": [
    "df_Sfeatures = pd.read_csv(\"./prepdata/Social_Features.csv\", low_memory=False)"
   ]
  },
  {
   "cell_type": "code",
   "execution_count": 72,
   "metadata": {
    "collapsed": true
   },
   "outputs": [],
   "source": [
    "parse_dates = ['date_created_x', 'date_released']\n",
    "df_info = pd.read_csv(\"./prepdata/info.csv\", parse_dates = parse_dates)"
   ]
  },
  {
   "cell_type": "markdown",
   "metadata": {},
   "source": [
    "#### Merge three dataframes:"
   ]
  },
  {
   "cell_type": "code",
   "execution_count": 73,
   "metadata": {
    "collapsed": true
   },
   "outputs": [],
   "source": [
    "merge_df=df_info.merge(df_Ffeatures,on='trackID').merge(df_Sfeatures,on='trackID')"
   ]
  },
  {
   "cell_type": "code",
   "execution_count": 74,
   "metadata": {},
   "outputs": [
    {
     "data": {
      "text/html": [
       "<div>\n",
       "<style>\n",
       "    .dataframe thead tr:only-child th {\n",
       "        text-align: right;\n",
       "    }\n",
       "\n",
       "    .dataframe thead th {\n",
       "        text-align: left;\n",
       "    }\n",
       "\n",
       "    .dataframe tbody tr th {\n",
       "        vertical-align: top;\n",
       "    }\n",
       "</style>\n",
       "<table border=\"1\" class=\"dataframe\">\n",
       "  <thead>\n",
       "    <tr style=\"text-align: right;\">\n",
       "      <th></th>\n",
       "      <th>Unnamed: 0_x</th>\n",
       "      <th>trackID</th>\n",
       "      <th>bit_rate</th>\n",
       "      <th>comments_x</th>\n",
       "      <th>date_created_x</th>\n",
       "      <th>duration</th>\n",
       "      <th>favorites_x</th>\n",
       "      <th>genre_top</th>\n",
       "      <th>interest</th>\n",
       "      <th>license</th>\n",
       "      <th>...</th>\n",
       "      <th>liveness</th>\n",
       "      <th>speechiness</th>\n",
       "      <th>tempo</th>\n",
       "      <th>valence</th>\n",
       "      <th>Unnamed: 0</th>\n",
       "      <th>artist_discovery</th>\n",
       "      <th>artist_familiarity</th>\n",
       "      <th>artist_hotttnesss</th>\n",
       "      <th>song_currency</th>\n",
       "      <th>song_hotttnesss</th>\n",
       "    </tr>\n",
       "  </thead>\n",
       "  <tbody>\n",
       "    <tr>\n",
       "      <th>0</th>\n",
       "      <td>0</td>\n",
       "      <td>2</td>\n",
       "      <td>256000</td>\n",
       "      <td>0</td>\n",
       "      <td>2008-11-26 01:48:12</td>\n",
       "      <td>168</td>\n",
       "      <td>2</td>\n",
       "      <td>Hip-Hop</td>\n",
       "      <td>4656</td>\n",
       "      <td>Attribution-NonCommercial-ShareAlike 3.0 Inter...</td>\n",
       "      <td>...</td>\n",
       "      <td>0.177647</td>\n",
       "      <td>0.15931</td>\n",
       "      <td>165.922</td>\n",
       "      <td>0.576661</td>\n",
       "      <td>3</td>\n",
       "      <td>0.38899</td>\n",
       "      <td>0.38674</td>\n",
       "      <td>0.40637</td>\n",
       "      <td>0.0</td>\n",
       "      <td>0.0</td>\n",
       "    </tr>\n",
       "  </tbody>\n",
       "</table>\n",
       "<p>1 rows × 41 columns</p>\n",
       "</div>"
      ],
      "text/plain": [
       "   Unnamed: 0_x  trackID  bit_rate  comments_x      date_created_x  duration  \\\n",
       "0             0        2    256000           0 2008-11-26 01:48:12       168   \n",
       "\n",
       "   favorites_x genre_top  interest  \\\n",
       "0            2   Hip-Hop      4656   \n",
       "\n",
       "                                             license       ...        \\\n",
       "0  Attribution-NonCommercial-ShareAlike 3.0 Inter...       ...         \n",
       "\n",
       "   liveness  speechiness    tempo   valence Unnamed: 0  artist_discovery  \\\n",
       "0  0.177647      0.15931  165.922  0.576661          3           0.38899   \n",
       "\n",
       "   artist_familiarity artist_hotttnesss  song_currency song_hotttnesss  \n",
       "0             0.38674           0.40637            0.0             0.0  \n",
       "\n",
       "[1 rows x 41 columns]"
      ]
     },
     "execution_count": 74,
     "metadata": {},
     "output_type": "execute_result"
    }
   ],
   "source": [
    "merge_df.head(1)"
   ]
  },
  {
   "cell_type": "markdown",
   "metadata": {},
   "source": [
    "#### Statistical details of the artist_hotttnesss:"
   ]
  },
  {
   "cell_type": "code",
   "execution_count": 75,
   "metadata": {},
   "outputs": [
    {
     "data": {
      "text/plain": [
       "count    13129.000000\n",
       "mean         0.346769\n",
       "std          0.133279\n",
       "min          0.000000\n",
       "25%          0.265889\n",
       "50%          0.343653\n",
       "75%          0.451625\n",
       "max          0.808122\n",
       "Name: artist_hotttnesss, dtype: float64"
      ]
     },
     "execution_count": 75,
     "metadata": {},
     "output_type": "execute_result"
    }
   ],
   "source": [
    "merge_df['artist_hotttnesss'].describe()"
   ]
  },
  {
   "cell_type": "markdown",
   "metadata": {},
   "source": [
    "#### convert the categorical columns into numeric :"
   ]
  },
  {
   "cell_type": "code",
   "execution_count": 76,
   "metadata": {
    "collapsed": true
   },
   "outputs": [],
   "source": [
    "le = LabelEncoder()\n",
    "merge_df['name'] = le.fit_transform(merge_df['name'])\n",
    "merge_df['duration'] = le.fit_transform(merge_df['duration'])\n",
    "merge_df['genre_top'] = le.fit_transform(merge_df['genre_top'])\n",
    "merge_df['date_created_x'] = le.fit_transform(merge_df['date_created_x'])\n",
    "merge_df['tags'] = le.fit_transform(merge_df['genre_top'])"
   ]
  },
  {
   "cell_type": "code",
   "execution_count": 77,
   "metadata": {},
   "outputs": [
    {
     "data": {
      "text/plain": [
       "Unnamed: 0                 int64\n",
       "trackID                    int64\n",
       "bit_rate                   int64\n",
       "comments_x                 int64\n",
       "date_created_x    datetime64[ns]\n",
       "duration                   int64\n",
       "favorites_x                int64\n",
       "genre_top                 object\n",
       "interest                   int64\n",
       "license                   object\n",
       "listens_x                  int64\n",
       "number                     int64\n",
       "tags_x                    object\n",
       "comments_y                 int64\n",
       "date_released     datetime64[ns]\n",
       "favorites_y                int64\n",
       "id_x                       int64\n",
       "information               object\n",
       "listens_y                  int64\n",
       "tags_y                    object\n",
       "tracks                     int64\n",
       "favorites                  int64\n",
       "id_y                       int64\n",
       "members                   object\n",
       "name                      object\n",
       "tags                      object\n",
       "dtype: object"
      ]
     },
     "execution_count": 77,
     "metadata": {},
     "output_type": "execute_result"
    }
   ],
   "source": [
    "df_info.dtypes"
   ]
  },
  {
   "cell_type": "markdown",
   "metadata": {},
   "source": [
    "#### Multiple Linear Regression :"
   ]
  },
  {
   "cell_type": "code",
   "execution_count": 78,
   "metadata": {
    "collapsed": true
   },
   "outputs": [],
   "source": [
    "i = merge_df[['acousticness', 'danceability', 'energy',  \n",
    "       'instrumentalness','speechiness','tempo','name','valence','liveness','genre_top', 'duration','tags',\n",
    "              'song_hotttnesss','date_created_x','bit_rate','artist_familiarity',\n",
    "             'artist_discovery','artist_hotttnesss']]"
   ]
  },
  {
   "cell_type": "markdown",
   "metadata": {},
   "source": [
    "#### Pearson correlation between pairs of features plot :"
   ]
  },
  {
   "cell_type": "code",
   "execution_count": 79,
   "metadata": {},
   "outputs": [
    {
     "data": {
      "image/png": "[encoded data removed]",
      "text/plain": [
       "<Figure size 432x288 with 2 Axes>"
      ]
     },
     "metadata": {},
     "output_type": "display_data"
    }
   ],
   "source": [
    "from yellowbrick.features import Rank2D\n",
    "\n",
    "visualizer = Rank2D(algorithm=\"pearson\")\n",
    "visualizer.fit_transform(i)\n",
    "visualizer.poof()"
   ]
  },
  {
   "cell_type": "markdown",
   "metadata": {},
   "source": [
    "#### Deleting variables with high Pearson correlation :"
   ]
  },
  {
   "cell_type": "code",
   "execution_count": 80,
   "metadata": {
    "collapsed": true
   },
   "outputs": [],
   "source": [
    "x = merge_df[['acousticness', 'danceability', 'energy',  \n",
    "       'instrumentalness','speechiness','tempo','liveness','valence','name','genre_top','duration',\n",
    "              'song_hotttnesss','date_created_x','artist_familiarity']]\n",
    "y = merge_df['artist_hotttnesss']  "
   ]
  },
  {
   "cell_type": "markdown",
   "metadata": {},
   "source": [
    "#### Ridge Regression:"
   ]
  },
  {
   "cell_type": "code",
   "execution_count": 81,
   "metadata": {
    "collapsed": true
   },
   "outputs": [],
   "source": [
    "from sklearn.model_selection import train_test_split  \n",
    "from sklearn.linear_model import LinearRegression  \n",
    "from sklearn import linear_model"
   ]
  },
  {
   "cell_type": "code",
   "execution_count": 82,
   "metadata": {
    "collapsed": true
   },
   "outputs": [],
   "source": [
    "x_train, x_test, y_train, y_test = train_test_split(x, y, test_size=0.3, random_state=0) "
   ]
  },
  {
   "cell_type": "code",
   "execution_count": 83,
   "metadata": {},
   "outputs": [
    {
     "data": {
      "text/plain": [
       "Ridge(alpha=0.05, copy_X=True, fit_intercept=True, max_iter=None,\n",
       "   normalize=True, random_state=None, solver='auto', tol=0.001)"
      ]
     },
     "execution_count": 83,
     "metadata": {},
     "output_type": "execute_result"
    }
   ],
   "source": [
    "reg = linear_model.Ridge(alpha=.05,normalize=True)\n",
    "reg.fit(x_train, y_train) "
   ]
  },
  {
   "cell_type": "markdown",
   "metadata": {},
   "source": [
    "#### Coefficient:"
   ]
  },
  {
   "cell_type": "code",
   "execution_count": 84,
   "metadata": {
    "collapsed": true
   },
   "outputs": [],
   "source": [
    "coefficient=pd.DataFrame(reg.coef_, x.columns, columns=['Coefficient'])  "
   ]
  },
  {
   "cell_type": "markdown",
   "metadata": {},
   "source": [
    "#### Intercept:"
   ]
  },
  {
   "cell_type": "code",
   "execution_count": 85,
   "metadata": {
    "collapsed": true
   },
   "outputs": [],
   "source": [
    "intercept=reg.intercept_"
   ]
  },
  {
   "cell_type": "markdown",
   "metadata": {},
   "source": [
    "#### Prediction :"
   ]
  },
  {
   "cell_type": "code",
   "execution_count": 86,
   "metadata": {
    "collapsed": true
   },
   "outputs": [],
   "source": [
    "y_prediction = reg.predict(x_test)"
   ]
  },
  {
   "cell_type": "code",
   "execution_count": 87,
   "metadata": {
    "collapsed": true
   },
   "outputs": [],
   "source": [
    "Actual_Prediction= pd.DataFrame({'Actual': y_test, 'Predicted': y_prediction})"
   ]
  },
  {
   "cell_type": "code",
   "execution_count": 88,
   "metadata": {},
   "outputs": [
    {
     "data": {
      "text/html": [
       "<div>\n",
       "<style>\n",
       "    .dataframe thead tr:only-child th {\n",
       "        text-align: right;\n",
       "    }\n",
       "\n",
       "    .dataframe thead th {\n",
       "        text-align: left;\n",
       "    }\n",
       "\n",
       "    .dataframe tbody tr th {\n",
       "        vertical-align: top;\n",
       "    }\n",
       "</style>\n",
       "<table border=\"1\" class=\"dataframe\">\n",
       "  <thead>\n",
       "    <tr style=\"text-align: right;\">\n",
       "      <th></th>\n",
       "      <th>Actual</th>\n",
       "      <th>Predicted</th>\n",
       "    </tr>\n",
       "  </thead>\n",
       "  <tbody>\n",
       "    <tr>\n",
       "      <th>6665</th>\n",
       "      <td>0.308687</td>\n",
       "      <td>0.343535</td>\n",
       "    </tr>\n",
       "    <tr>\n",
       "      <th>397</th>\n",
       "      <td>0.254209</td>\n",
       "      <td>0.218316</td>\n",
       "    </tr>\n",
       "    <tr>\n",
       "      <th>5775</th>\n",
       "      <td>0.297655</td>\n",
       "      <td>0.292289</td>\n",
       "    </tr>\n",
       "    <tr>\n",
       "      <th>12346</th>\n",
       "      <td>0.391495</td>\n",
       "      <td>0.319671</td>\n",
       "    </tr>\n",
       "    <tr>\n",
       "      <th>7584</th>\n",
       "      <td>0.477212</td>\n",
       "      <td>0.381417</td>\n",
       "    </tr>\n",
       "  </tbody>\n",
       "</table>\n",
       "</div>"
      ],
      "text/plain": [
       "         Actual  Predicted\n",
       "6665   0.308687   0.343535\n",
       "397    0.254209   0.218316\n",
       "5775   0.297655   0.292289\n",
       "12346  0.391495   0.319671\n",
       "7584   0.477212   0.381417"
      ]
     },
     "execution_count": 88,
     "metadata": {},
     "output_type": "execute_result"
    }
   ],
   "source": [
    "Actual_Prediction.head(5)"
   ]
  },
  {
   "cell_type": "code",
   "execution_count": 89,
   "metadata": {},
   "outputs": [
    {
     "name": "stdout",
     "output_type": "stream",
     "text": [
      "0.7301821805069042\n"
     ]
    }
   ],
   "source": [
    "# r2_score is a statistical measure of how close the data are to the fitted regression line\n",
    "from sklearn.metrics import r2_score\n",
    "score = r2_score(y_test,y_prediction)\n",
    "print(score)"
   ]
  },
  {
   "cell_type": "code",
   "execution_count": 90,
   "metadata": {},
   "outputs": [
    {
     "data": {
      "text/plain": [
       "0.7301821805069042"
      ]
     },
     "execution_count": 90,
     "metadata": {},
     "output_type": "execute_result"
    }
   ],
   "source": [
    "score2=reg.score(x_test,y_test)\n",
    "score2"
   ]
  },
  {
   "cell_type": "code",
   "execution_count": 91,
   "metadata": {
    "collapsed": true
   },
   "outputs": [],
   "source": [
    "from sklearn import metrics  "
   ]
  },
  {
   "cell_type": "code",
   "execution_count": 92,
   "metadata": {},
   "outputs": [
    {
     "name": "stdout",
     "output_type": "stream",
     "text": [
      "MAE: 0.05381271351714\n",
      "MSE: 0.004707126008876793\n",
      "RMSE: 0.06860849808060801\n"
     ]
    }
   ],
   "source": [
    "print('MAE:', metrics.mean_absolute_error(y_test, y_prediction))  \n",
    "print('MSE:', metrics.mean_squared_error(y_test, y_prediction))  \n",
    "print('RMSE:', np.sqrt(metrics.mean_squared_error(y_test, y_prediction)))  "
   ]
  },
  {
   "cell_type": "markdown",
   "metadata": {},
   "source": [
    "#### Residuals Plot:"
   ]
  },
  {
   "cell_type": "code",
   "execution_count": 93,
   "metadata": {
    "collapsed": true
   },
   "outputs": [],
   "source": [
    "import yellowbrick"
   ]
  },
  {
   "cell_type": "code",
   "execution_count": 94,
   "metadata": {
    "collapsed": true
   },
   "outputs": [],
   "source": [
    "from sklearn.linear_model import Ridge\n",
    "from yellowbrick.regressor import ResidualsPlot"
   ]
  },
  {
   "cell_type": "code",
   "execution_count": 95,
   "metadata": {},
   "outputs": [
    {
     "data": {
      "image/png": "[encoded data removed]",
      "text/plain": [
       "<Figure size 432x288 with 2 Axes>"
      ]
     },
     "metadata": {},
     "output_type": "display_data"
    }
   ],
   "source": [
    "ridge = Ridge()\n",
    "visualizer = ResidualsPlot(ridge)\n",
    "\n",
    "visualizer.fit(x_train, y_train)  \n",
    "visualizer.score(x_test, y_test)  \n",
    "visualizer.poof()                \n"
   ]
  },
  {
   "cell_type": "markdown",
   "metadata": {},
   "source": [
    "<font color=darkblue>It can be seen that from the histogram that error is normally distributed around zero, which indicates a well fitted model.</font>"
   ]
  },
  {
   "cell_type": "markdown",
   "metadata": {},
   "source": [
    "<font color=darkblue>If the residuals are randomly dispersed around the horizontal axis, a linear regression model is usually appropriate for the data.</font>"
   ]
  },
  {
   "cell_type": "code",
   "execution_count": 96,
   "metadata": {},
   "outputs": [
    {
     "data": {
      "image/png": "[encoded data removed]",
      "text/plain": [
       "<Figure size 432x288 with 1 Axes>"
      ]
     },
     "metadata": {},
     "output_type": "display_data"
    }
   ],
   "source": [
    "from sklearn.linear_model import Ridge\n",
    "from yellowbrick.regressor import PredictionError\n",
    "\n",
    "visualizer = PredictionError(Ridge(alpha=0.5))\n",
    "visualizer.fit(x_train, y_train)\n",
    "visualizer.score(x_test, y_test)\n",
    "visualizer.poof()"
   ]
  },
  {
   "cell_type": "markdown",
   "metadata": {},
   "source": [
    "#### Conclusion:\n",
    "\n",
    "1. The more people who are familair with artists, the more famous they will be in future.\n",
    "\n",
    "2. It seems that the most energrtic songs(based on energy and liveness variables) can cause their artist will be famous.\n",
    "\n",
    "3. It seems that the more acoustic sounds a given track has, the more famous artists will be.\n",
    "\n",
    "4. The more popular get their song, the more popular get artist.\n",
    "\n"
   ]
  },
  {
   "cell_type": "markdown",
   "metadata": {},
   "source": [
    "#### Linear Regression :"
   ]
  },
  {
   "cell_type": "code",
   "execution_count": 97,
   "metadata": {
    "collapsed": true
   },
   "outputs": [],
   "source": [
    "x1 = merge_df[['acousticness', 'danceability', 'energy',  \n",
    "       'instrumentalness','speechiness','tempo','liveness','valence','name','genre_top','duration','song_currency',\n",
    "              'song_hotttnesss','date_created_x','artist_familiarity']]\n",
    "y1 = merge_df['artist_hotttnesss']  "
   ]
  },
  {
   "cell_type": "code",
   "execution_count": 98,
   "metadata": {
    "collapsed": true
   },
   "outputs": [],
   "source": [
    "from sklearn.model_selection import train_test_split  \n",
    "from sklearn.linear_model import LinearRegression  "
   ]
  },
  {
   "cell_type": "code",
   "execution_count": 99,
   "metadata": {
    "collapsed": true
   },
   "outputs": [],
   "source": [
    "x1_train, x1_test, y1_train, y1_test = train_test_split(x1, y1, test_size=0.3, random_state=0)  "
   ]
  },
  {
   "cell_type": "code",
   "execution_count": 100,
   "metadata": {},
   "outputs": [
    {
     "data": {
      "text/plain": [
       "LinearRegression(copy_X=True, fit_intercept=True, n_jobs=None,\n",
       "         normalize=False)"
      ]
     },
     "execution_count": 100,
     "metadata": {},
     "output_type": "execute_result"
    }
   ],
   "source": [
    "Regression_model= LinearRegression()  \n",
    "Regression_model.fit(x1_train, y1_train)  "
   ]
  },
  {
   "cell_type": "code",
   "execution_count": 101,
   "metadata": {
    "collapsed": true
   },
   "outputs": [],
   "source": [
    "coefficient=pd.DataFrame(Regression_model.coef_, x1.columns, columns=['Coefficient'])  "
   ]
  },
  {
   "cell_type": "code",
   "execution_count": 102,
   "metadata": {
    "collapsed": true
   },
   "outputs": [],
   "source": [
    "intercept=Regression_model.intercept_"
   ]
  },
  {
   "cell_type": "code",
   "execution_count": 103,
   "metadata": {
    "collapsed": true
   },
   "outputs": [],
   "source": [
    "y_prediction1 = Regression_model.predict(x1_test)"
   ]
  },
  {
   "cell_type": "code",
   "execution_count": 104,
   "metadata": {
    "collapsed": true
   },
   "outputs": [],
   "source": [
    "Actual_Prediction1= pd.DataFrame({'Actual': y1_test, 'Predicted': y_prediction1})"
   ]
  },
  {
   "cell_type": "code",
   "execution_count": 105,
   "metadata": {},
   "outputs": [
    {
     "data": {
      "text/html": [
       "<div>\n",
       "<style>\n",
       "    .dataframe thead tr:only-child th {\n",
       "        text-align: right;\n",
       "    }\n",
       "\n",
       "    .dataframe thead th {\n",
       "        text-align: left;\n",
       "    }\n",
       "\n",
       "    .dataframe tbody tr th {\n",
       "        vertical-align: top;\n",
       "    }\n",
       "</style>\n",
       "<table border=\"1\" class=\"dataframe\">\n",
       "  <thead>\n",
       "    <tr style=\"text-align: right;\">\n",
       "      <th></th>\n",
       "      <th>Actual</th>\n",
       "      <th>Predicted</th>\n",
       "    </tr>\n",
       "  </thead>\n",
       "  <tbody>\n",
       "    <tr>\n",
       "      <th>6665</th>\n",
       "      <td>0.308687</td>\n",
       "      <td>0.343785</td>\n",
       "    </tr>\n",
       "    <tr>\n",
       "      <th>397</th>\n",
       "      <td>0.254209</td>\n",
       "      <td>0.210585</td>\n",
       "    </tr>\n",
       "    <tr>\n",
       "      <th>5775</th>\n",
       "      <td>0.297655</td>\n",
       "      <td>0.290994</td>\n",
       "    </tr>\n",
       "    <tr>\n",
       "      <th>12346</th>\n",
       "      <td>0.391495</td>\n",
       "      <td>0.319737</td>\n",
       "    </tr>\n",
       "    <tr>\n",
       "      <th>7584</th>\n",
       "      <td>0.477212</td>\n",
       "      <td>0.383391</td>\n",
       "    </tr>\n",
       "  </tbody>\n",
       "</table>\n",
       "</div>"
      ],
      "text/plain": [
       "         Actual  Predicted\n",
       "6665   0.308687   0.343785\n",
       "397    0.254209   0.210585\n",
       "5775   0.297655   0.290994\n",
       "12346  0.391495   0.319737\n",
       "7584   0.477212   0.383391"
      ]
     },
     "execution_count": 105,
     "metadata": {},
     "output_type": "execute_result"
    }
   ],
   "source": [
    "Actual_Prediction1.head(5)"
   ]
  },
  {
   "cell_type": "code",
   "execution_count": 106,
   "metadata": {},
   "outputs": [
    {
     "name": "stdout",
     "output_type": "stream",
     "text": [
      "0.7291242093650601\n"
     ]
    }
   ],
   "source": [
    "from sklearn.metrics import r2_score\n",
    "score = r2_score(y1_test,y_prediction1)\n",
    "print(score)"
   ]
  },
  {
   "cell_type": "code",
   "execution_count": 107,
   "metadata": {},
   "outputs": [
    {
     "name": "stdout",
     "output_type": "stream",
     "text": [
      "MAE: 0.05376982976460857\n",
      "MSE: 0.0047255829198687045\n",
      "RMSE: 0.06874287541170143\n"
     ]
    }
   ],
   "source": [
    "from sklearn import metrics  \n",
    "print('MAE:', metrics.mean_absolute_error(y1_test, y_prediction1))  \n",
    "print('MSE:', metrics.mean_squared_error(y1_test, y_prediction1))  \n",
    "print('RMSE:', np.sqrt(metrics.mean_squared_error(y1_test, y_prediction1)))  "
   ]
  },
  {
   "cell_type": "markdown",
   "metadata": {},
   "source": [
    "#### Improving the accuracy:\n",
    "\n",
    "1.Need more data : the echonest dataset is built for some of the tracks and therefore if echonest data is being used, we need to narrow down our analysis to a subset of all the tracks.\n",
    "\n",
    "2.Using other features :\n",
    "\n",
    "3.Trying different regression model :\n",
    "It can be possible this data has not a linear relationship"
   ]
  },
  {
   "cell_type": "code",
   "execution_count": null,
   "metadata": {
    "collapsed": true
   },
   "outputs": [],
   "source": []
  }
 ],
 "metadata": {
  "kernelspec": {
   "display_name": "Python 3",
   "language": "python",
   "name": "python3"
  },
  "language_info": {
   "codemirror_mode": {
    "name": "ipython",
    "version": 3
   },
   "file_extension": ".py",
   "mimetype": "text/x-python",
   "name": "python",
   "nbconvert_exporter": "python",
   "pygments_lexer": "ipython3",
   "version": "3.6.5"
  }
 },
 "nbformat": 4,
 "nbformat_minor": 2
}
